{
  "nbformat": 4,
  "nbformat_minor": 0,
  "metadata": {
    "colab": {
      "name": "IRIS_DATA_ANALYSIS_AND_PREDICTIONS.ipynb",
      "version": "0.3.2",
      "provenance": [],
      "toc_visible": true
    },
    "kernelspec": {
      "name": "python3",
      "display_name": "Python 3"
    }
  },
  "cells": [
    {
      "metadata": {
        "id": "0EKwY1dO7kpx",
        "colab_type": "code",
        "colab": {
          "base_uri": "https://localhost:8080/",
          "height": 35
        },
        "outputId": "71d6a38c-f28c-46eb-c346-f8acb690a82f"
      },
      "cell_type": "code",
      "source": [
        "!pip install numpy"
      ],
      "execution_count": 3,
      "outputs": [
        {
          "output_type": "stream",
          "text": [
            "Requirement already satisfied: numpy in /usr/local/lib/python3.6/dist-packages (1.14.6)\n"
          ],
          "name": "stdout"
        }
      ]
    },
    {
      "metadata": {
        "id": "bjaNA7EA8KNS",
        "colab_type": "code",
        "colab": {
          "base_uri": "https://localhost:8080/",
          "height": 269
        },
        "outputId": "53c292cd-c98c-48c6-864e-736234d69f40"
      },
      "cell_type": "code",
      "source": [
        "!pip install numpy pandas scikit-learn matplotlib seaborn"
      ],
      "execution_count": 4,
      "outputs": [
        {
          "output_type": "stream",
          "text": [
            "Requirement already satisfied: numpy in /usr/local/lib/python3.6/dist-packages (1.14.6)\n",
            "Requirement already satisfied: pandas in /usr/local/lib/python3.6/dist-packages (0.22.0)\n",
            "Requirement already satisfied: scikit-learn in /usr/local/lib/python3.6/dist-packages (0.20.2)\n",
            "Requirement already satisfied: matplotlib in /usr/local/lib/python3.6/dist-packages (3.0.2)\n",
            "Requirement already satisfied: seaborn in /usr/local/lib/python3.6/dist-packages (0.7.1)\n",
            "Requirement already satisfied: python-dateutil>=2 in /usr/local/lib/python3.6/dist-packages (from pandas) (2.5.3)\n",
            "Requirement already satisfied: pytz>=2011k in /usr/local/lib/python3.6/dist-packages (from pandas) (2018.9)\n",
            "Requirement already satisfied: scipy>=0.13.3 in /usr/local/lib/python3.6/dist-packages (from scikit-learn) (1.1.0)\n",
            "Requirement already satisfied: cycler>=0.10 in /usr/local/lib/python3.6/dist-packages (from matplotlib) (0.10.0)\n",
            "Requirement already satisfied: kiwisolver>=1.0.1 in /usr/local/lib/python3.6/dist-packages (from matplotlib) (1.0.1)\n",
            "Requirement already satisfied: pyparsing!=2.0.4,!=2.1.2,!=2.1.6,>=2.0.1 in /usr/local/lib/python3.6/dist-packages (from matplotlib) (2.3.1)\n",
            "Requirement already satisfied: six>=1.5 in /usr/local/lib/python3.6/dist-packages (from python-dateutil>=2->pandas) (1.11.0)\n",
            "Requirement already satisfied: setuptools in /usr/local/lib/python3.6/dist-packages (from kiwisolver>=1.0.1->matplotlib) (40.8.0)\n"
          ],
          "name": "stdout"
        }
      ]
    },
    {
      "metadata": {
        "id": "_u_a1HVG8WBG",
        "colab_type": "code",
        "colab": {
          "base_uri": "https://localhost:8080/",
          "height": 206
        },
        "outputId": "429df13c-18af-456d-ec77-839b787f739e"
      },
      "cell_type": "code",
      "source": [
        "import pandas as pd\n",
        "iris_data = pd.read_csv('iris-data.csv')\n",
        "iris_data.head()"
      ],
      "execution_count": 5,
      "outputs": [
        {
          "output_type": "execute_result",
          "data": {
            "text/html": [
              "<div>\n",
              "<style scoped>\n",
              "    .dataframe tbody tr th:only-of-type {\n",
              "        vertical-align: middle;\n",
              "    }\n",
              "\n",
              "    .dataframe tbody tr th {\n",
              "        vertical-align: top;\n",
              "    }\n",
              "\n",
              "    .dataframe thead th {\n",
              "        text-align: right;\n",
              "    }\n",
              "</style>\n",
              "<table border=\"1\" class=\"dataframe\">\n",
              "  <thead>\n",
              "    <tr style=\"text-align: right;\">\n",
              "      <th></th>\n",
              "      <th>sepal_length_cm</th>\n",
              "      <th>sepal_width_cm</th>\n",
              "      <th>petal_length_cm</th>\n",
              "      <th>petal_width_cm</th>\n",
              "      <th>class</th>\n",
              "    </tr>\n",
              "  </thead>\n",
              "  <tbody>\n",
              "    <tr>\n",
              "      <th>0</th>\n",
              "      <td>5.1</td>\n",
              "      <td>3.5</td>\n",
              "      <td>1.4</td>\n",
              "      <td>0.2</td>\n",
              "      <td>Iris-setosa</td>\n",
              "    </tr>\n",
              "    <tr>\n",
              "      <th>1</th>\n",
              "      <td>4.9</td>\n",
              "      <td>3.0</td>\n",
              "      <td>1.4</td>\n",
              "      <td>0.2</td>\n",
              "      <td>Iris-setosa</td>\n",
              "    </tr>\n",
              "    <tr>\n",
              "      <th>2</th>\n",
              "      <td>4.7</td>\n",
              "      <td>3.2</td>\n",
              "      <td>1.3</td>\n",
              "      <td>0.2</td>\n",
              "      <td>Iris-setosa</td>\n",
              "    </tr>\n",
              "    <tr>\n",
              "      <th>3</th>\n",
              "      <td>4.6</td>\n",
              "      <td>3.1</td>\n",
              "      <td>1.5</td>\n",
              "      <td>0.2</td>\n",
              "      <td>Iris-setosa</td>\n",
              "    </tr>\n",
              "    <tr>\n",
              "      <th>4</th>\n",
              "      <td>5.0</td>\n",
              "      <td>3.6</td>\n",
              "      <td>1.4</td>\n",
              "      <td>0.2</td>\n",
              "      <td>Iris-setosa</td>\n",
              "    </tr>\n",
              "  </tbody>\n",
              "</table>\n",
              "</div>"
            ],
            "text/plain": [
              "   sepal_length_cm  sepal_width_cm  petal_length_cm  petal_width_cm  \\\n",
              "0              5.1             3.5              1.4             0.2   \n",
              "1              4.9             3.0              1.4             0.2   \n",
              "2              4.7             3.2              1.3             0.2   \n",
              "3              4.6             3.1              1.5             0.2   \n",
              "4              5.0             3.6              1.4             0.2   \n",
              "\n",
              "         class  \n",
              "0  Iris-setosa  \n",
              "1  Iris-setosa  \n",
              "2  Iris-setosa  \n",
              "3  Iris-setosa  \n",
              "4  Iris-setosa  "
            ]
          },
          "metadata": {
            "tags": []
          },
          "execution_count": 5
        }
      ]
    },
    {
      "metadata": {
        "id": "s4MNTA3W9Zp8",
        "colab_type": "code",
        "colab": {}
      },
      "cell_type": "code",
      "source": [
        "iris_data = pd.read_csv('iris-data.csv', na_values = ['NA'])\n",
        "#letting the pandas know how to treat not available data points"
      ],
      "execution_count": 0,
      "outputs": []
    },
    {
      "metadata": {
        "id": "D_BJPtYK96eM",
        "colab_type": "code",
        "colab": {}
      },
      "cell_type": "code",
      "source": [
        "iris_data.describe()"
      ],
      "execution_count": 0,
      "outputs": []
    },
    {
      "metadata": {
        "id": "x1KsJPqx-cSD",
        "colab_type": "code",
        "colab": {}
      },
      "cell_type": "code",
      "source": [
        "%matplotlib inline\n",
        "import matplotlib.pyplot as plt\n",
        "import seaborn as sb"
      ],
      "execution_count": 0,
      "outputs": []
    },
    {
      "metadata": {
        "id": "5hUpCW2U-6yA",
        "colab_type": "code",
        "colab": {}
      },
      "cell_type": "code",
      "source": [
        "sb.pairplot(iris_data.dropna(), hue = 'class')"
      ],
      "execution_count": 0,
      "outputs": []
    },
    {
      "metadata": {
        "id": "i5zkbdtRBdMh",
        "colab_type": "code",
        "colab": {}
      },
      "cell_type": "code",
      "source": [
        "#since there are issues with the data, I'm gonna fix those which were found from the scatterplot above.\n",
        "#first thing being the classes - we only have 3 but the data shows 5. two were repeated.\n",
        "\n",
        "iris_data.loc[iris_data['class'] == 'versicolor', 'class'] = 'Iris-versicolor'\n",
        "iris_data.loc[iris_data['class'] == 'Iris-setossa', 'class'] = 'Iris-setosa'\n",
        "\n",
        "iris_data['class'].unique()"
      ],
      "execution_count": 0,
      "outputs": []
    },
    {
      "metadata": {
        "id": "mhkAYV1QC9-p",
        "colab_type": "code",
        "colab": {}
      },
      "cell_type": "code",
      "source": [
        "#fixing the outliers\n",
        "#first I'll be fixing the outlier of iris-setosa with width less than 2.5cm as thats not practically possible\n",
        "\n",
        "iris_data = iris_data.loc[(iris_data['class'] != 'Iris-setosa') | (iris_data['sepal_width_cm'] >= 2.5)]\n",
        "iris_data.loc[iris_data['class'] == 'Iris-setosa', 'sepal_width_cm'].hist()"
      ],
      "execution_count": 0,
      "outputs": []
    },
    {
      "metadata": {
        "id": "yAaZLMq5KrM3",
        "colab_type": "code",
        "colab": {}
      },
      "cell_type": "code",
      "source": [
        "#now addressing the issue of near close values of iris versicolor\n",
        "#first see the values corresponding to those cases\n",
        "\n",
        "iris_data.loc[(iris_data['class'] == 'Iris-versicolor') &\n",
        "              (iris_data['sepal_length_cm'] < 1.0)]\n",
        "\n",
        "#it can be seen that the values are probably 6.7,6.0..."
      ],
      "execution_count": 0,
      "outputs": []
    },
    {
      "metadata": {
        "id": "IcU7FdhgUy93",
        "colab_type": "code",
        "colab": {}
      },
      "cell_type": "code",
      "source": [
        "iris_data.loc[(iris_data['class'] == 'Iris-versicolor') &\n",
        "              (iris_data['sepal_length_cm'] < 1.0),\n",
        "              'sepal_length_cm'] *= 100.0\n",
        "\n",
        "iris_data.loc[iris_data['class'] == 'Iris-versicolor', 'sepal_length_cm'].hist()\n",
        ";"
      ],
      "execution_count": 0,
      "outputs": []
    },
    {
      "metadata": {
        "id": "3tm48Y1ifFx6",
        "colab_type": "code",
        "colab": {}
      },
      "cell_type": "code",
      "source": [
        "#now to resolve the issue with na values, I need to first see those rows\n",
        "\n",
        "\n",
        "\n",
        "iris_data.loc[(iris_data['sepal_length_cm'].isnull()) |\n",
        "              (iris_data['sepal_width_cm'].isnull()) |\n",
        "              (iris_data['petal_length_cm'].isnull()) |\n",
        "              (iris_data['petal_width_cm'].isnull())]\n",
        "\n"
      ],
      "execution_count": 0,
      "outputs": []
    },
    {
      "metadata": {
        "id": "wwg7oHAmfxOL",
        "colab_type": "code",
        "colab": {}
      },
      "cell_type": "code",
      "source": [
        "#now to find the mean of the values that we're missing so as to not avoid the whole rows\n",
        "\n",
        "iris_data.loc[iris_data['class'] == 'Iris-setosa', 'petal_width_cm'].hist()\n",
        ";"
      ],
      "execution_count": 0,
      "outputs": []
    },
    {
      "metadata": {
        "id": "mbytuEO9gCBd",
        "colab_type": "code",
        "colab": {}
      },
      "cell_type": "code",
      "source": [
        "#to assign mean value,first i need to calculate the mean for that class and the input\n",
        "#then I need to assign that to missing null values\n",
        "\n",
        "average_petal_width = iris_data.loc[iris_data['class'] == 'Iris-setosa', 'petal_width_cm'].mean()\n",
        "\n",
        "iris_data.loc[(iris_data['class'] == 'Iris-setosa') &\n",
        "              (iris_data['petal_width_cm'].isnull()),\n",
        "              'petal_width_cm'] = average_petal_width\n"
      ],
      "execution_count": 0,
      "outputs": []
    },
    {
      "metadata": {
        "id": "UbJ8j1xehZMi",
        "colab_type": "code",
        "colab": {}
      },
      "cell_type": "code",
      "source": [
        "#saving the clean code\n",
        "\n",
        "iris_data.to_csv('iris-data-clean.csv', index=False)\n",
        "\n",
        "iris_data_clean = pd.read_csv('iris-data-clean.csv')"
      ],
      "execution_count": 0,
      "outputs": []
    },
    {
      "metadata": {
        "id": "zmS_AoZkh-tj",
        "colab_type": "code",
        "colab": {}
      },
      "cell_type": "code",
      "source": [
        "#visualizing the new data\n",
        "\n",
        "\n",
        "\n",
        "sb.pairplot(iris_data_clean, hue='class')\n",
        ";\n",
        "\n"
      ],
      "execution_count": 0,
      "outputs": []
    },
    {
      "metadata": {
        "id": "XrodTbO7idMD",
        "colab_type": "code",
        "colab": {}
      },
      "cell_type": "code",
      "source": [
        "#Now unit testing\n",
        "\n",
        "# only 3 classes\n",
        "assert len(iris_data_clean['class'].unique()) == 3\n",
        "\n",
        "# We know that sepal lengths for 'Iris-versicolor' should never be below 2.5 cm\n",
        "assert iris_data_clean.loc[iris_data_clean['class'] == 'Iris-versicolor', 'sepal_length_cm'].min() >= 2.5\n",
        "\n",
        "assert len(iris_data_clean.loc[(iris_data_clean['sepal_length_cm'].isnull()) |\n",
        "                               (iris_data_clean['sepal_width_cm'].isnull()) |\n",
        "                               (iris_data_clean['petal_length_cm'].isnull()) |\n",
        "                               (iris_data_clean['petal_width_cm'].isnull())]) == 0"
      ],
      "execution_count": 0,
      "outputs": []
    },
    {
      "metadata": {
        "id": "LYxa7jpXkyhC",
        "colab_type": "text"
      },
      "cell_type": "markdown",
      "source": [
        "# Exploratory Analysis"
      ]
    },
    {
      "metadata": {
        "id": "ZLbfrVaylBaP",
        "colab_type": "code",
        "colab": {}
      },
      "cell_type": "code",
      "source": [
        "sb.pairplot(iris_data_clean, hue = 'class');"
      ],
      "execution_count": 0,
      "outputs": []
    },
    {
      "metadata": {
        "id": "BVzPC-efmNFd",
        "colab_type": "code",
        "colab": {}
      },
      "cell_type": "code",
      "source": [
        "#creating violin plots to look more closely at the distribution\n",
        "\n",
        "plt.figure(figsize=(10, 10))  #plot size\n",
        "\n",
        "#enumerate based on index and column and subplotting them seperately\n",
        "\n",
        "for column_index, column in enumerate(iris_data_clean.columns):\n",
        "    if column == 'class':\n",
        "        continue\n",
        "    plt.subplot(2, 2, column_index + 1)\n",
        "    sb.violinplot(x='class', y=column, data=iris_data_clean)"
      ],
      "execution_count": 0,
      "outputs": []
    },
    {
      "metadata": {
        "id": "ylE4X4otudoT",
        "colab_type": "text"
      },
      "cell_type": "markdown",
      "source": [
        "# Modeling"
      ]
    },
    {
      "metadata": {
        "id": "oHwSX2nSuiY1",
        "colab_type": "code",
        "colab": {}
      },
      "cell_type": "code",
      "source": [
        "iris_data_clean = pd.read_csv('iris-data-clean.csv')\n",
        "\n",
        "# four measurements are inputs\n",
        "# scikit-learn needs each to be a list of values\n",
        "# such that input data set is represented as a list of lists\n",
        "\n",
        "# extracting the data\n",
        "\n",
        "all_inputs = iris_data_clean[['sepal_length_cm', 'sepal_width_cm',\n",
        "                             'petal_length_cm', 'petal_width_cm']].values\n",
        "\n",
        "# extracting class labels\n",
        "all_labels = iris_data_clean['class'].values\n",
        "\n",
        "\n",
        "#testing\n",
        "all_inputs[:5]"
      ],
      "execution_count": 0,
      "outputs": []
    },
    {
      "metadata": {
        "id": "PO-jOEyWhKz9",
        "colab_type": "code",
        "colab": {}
      },
      "cell_type": "code",
      "source": [
        "from sklearn.model_selection import train_test_split\n",
        "\n",
        "(training_inputs,\n",
        " testing_inputs,\n",
        " training_classes,\n",
        " testing_classes) = train_test_split(all_inputs, all_labels, test_size=0.25, random_state=1)"
      ],
      "execution_count": 0,
      "outputs": []
    },
    {
      "metadata": {
        "id": "olWixgJoj_Eq",
        "colab_type": "code",
        "colab": {}
      },
      "cell_type": "code",
      "source": [
        "from sklearn.tree import DecisionTreeClassifier\n",
        "\n",
        "# Creating the classifier\n",
        "decision_tree_classifier = DecisionTreeClassifier()\n",
        "\n",
        "# Training the classifier on the training set\n",
        "decision_tree_classifier.fit(training_inputs, training_classes)\n",
        "\n",
        "# Validating the classifier on the testing set using classification accuracy\n",
        "decision_tree_classifier.score(testing_inputs, testing_classes)"
      ],
      "execution_count": 0,
      "outputs": []
    },
    {
      "metadata": {
        "id": "lw8KU2nrk0qE",
        "colab_type": "code",
        "colab": {
          "base_uri": "https://localhost:8080/",
          "height": 265
        },
        "outputId": "e0712bcb-23b4-4682-fcc5-321b02d3eb1d"
      },
      "cell_type": "code",
      "source": [
        "#testing for how well the model is performing for different training and testing sets\n",
        "model_accuracies = []\n",
        "\n",
        "for repetition in range(1000):\n",
        "    (training_inputs,\n",
        "     testing_inputs,\n",
        "     training_classes,\n",
        "     testing_classes) = train_test_split(all_inputs, all_labels, test_size=0.25)  #splitting data\n",
        "    \n",
        "    decision_tree_classifier = DecisionTreeClassifier()  #running model\n",
        "    decision_tree_classifier.fit(training_inputs, training_classes)\n",
        "    classifier_accuracy = decision_tree_classifier.score(testing_inputs, testing_classes)\n",
        "    model_accuracies.append(classifier_accuracy)\n",
        "    \n",
        "plt.hist(model_accuracies); #plotting model accuracy"
      ],
      "execution_count": 14,
      "outputs": [
        {
          "output_type": "display_data",
          "data": {
            "image/png": "[encoded data removed]",
            "text/plain": [
              "<Figure size 432x288 with 1 Axes>"
            ]
          },
          "metadata": {
            "tags": []
          }
        }
      ]
    },
    {
      "metadata": {
        "id": "mh6CgqT8lsZX",
        "colab_type": "code",
        "colab": {}
      },
      "cell_type": "code",
      "source": [
        "# above hist indicates overfitting and hence its needed to use k fold distribution\n",
        "#each box that is in the output is a data value point\n",
        "import numpy as np\n",
        "from sklearn.model_selection import StratifiedKFold\n",
        "\n",
        "def plot_cv(cv, features, labels):\n",
        "    masks = []\n",
        "    for train, test in cv.split(features, labels):\n",
        "        mask = np.zeros(len(labels), dtype=bool)\n",
        "        mask[test] = 1\n",
        "        masks.append(mask)\n",
        "    \n",
        "    plt.figure(figsize=(15, 15))\n",
        "    plt.imshow(masks, interpolation='none', cmap='gray_r')\n",
        "    plt.ylabel('Fold')\n",
        "    plt.xlabel('Row #')\n",
        "\n",
        "plot_cv(StratifiedKFold(n_splits=10), all_inputs, all_labels)"
      ],
      "execution_count": 0,
      "outputs": []
    },
    {
      "metadata": {
        "id": "kEbL1u_TnRe2",
        "colab_type": "code",
        "colab": {}
      },
      "cell_type": "code",
      "source": [
        "from sklearn.model_selection import cross_val_score\n",
        "\n",
        "decision_tree_classifier = DecisionTreeClassifier()\n",
        "\n",
        "# cross_val_score returns a list of the scores\n",
        "#plotting to visualize a reasonable estimate of classifier's performance\n",
        "cv_scores = cross_val_score(decision_tree_classifier, all_inputs, all_labels, cv=10)\n",
        "plt.hist(cv_scores)\n",
        "plt.title('Average score: {}'.format(np.mean(cv_scores)))\n",
        ";"
      ],
      "execution_count": 0,
      "outputs": []
    },
    {
      "metadata": {
        "id": "8UQTXJB9nugM",
        "colab_type": "code",
        "colab": {}
      },
      "cell_type": "code",
      "source": [
        "#parameter tuning test\n",
        "\n",
        "#adjusting the depth\n",
        "\n",
        "decision_tree_classifier = DecisionTreeClassifier(max_depth=1)\n",
        "\n",
        "cv_scores = cross_val_score(decision_tree_classifier, all_inputs, all_labels, cv=10)\n",
        "plt.hist(cv_scores)\n",
        "plt.title('Average score: {}'.format(np.mean(cv_scores)))\n",
        ";"
      ],
      "execution_count": 0,
      "outputs": []
    },
    {
      "metadata": {
        "id": "UDqFEYMopD6q",
        "colab_type": "code",
        "colab": {}
      },
      "cell_type": "code",
      "source": [
        "#testing out different params in param tuning\n",
        "\n",
        "from sklearn.model_selection import GridSearchCV\n",
        "\n",
        "decision_tree_classifier = DecisionTreeClassifier()\n",
        "\n",
        "parameter_grid = {'max_depth': [1, 2, 3, 4, 5],\n",
        "                  'max_features': [1, 2, 3, 4]}\n",
        "\n",
        "cross_validation = StratifiedKFold(n_splits=10)\n",
        "\n",
        "grid_search = GridSearchCV(decision_tree_classifier,\n",
        "                           param_grid=parameter_grid,\n",
        "                           cv=cross_validation)\n",
        "\n",
        "grid_search.fit(all_inputs, all_labels)\n",
        "print('Best score: {}'.format(grid_search.best_score_))\n",
        "print('Best parameters: {}'.format(grid_search.best_params_))"
      ],
      "execution_count": 0,
      "outputs": []
    },
    {
      "metadata": {
        "id": "GdC-EXbcpady",
        "colab_type": "code",
        "colab": {}
      },
      "cell_type": "code",
      "source": [
        "decision_tree_classifier = DecisionTreeClassifier()\n",
        "\n",
        "parameter_grid = {'criterion': ['gini', 'entropy'],\n",
        "                  'splitter': ['best', 'random'],\n",
        "                  'max_depth': [1, 2, 3, 4, 5],\n",
        "                  'max_features': [1, 2, 3, 4]}\n",
        "\n",
        "cross_validation = StratifiedKFold(n_splits=10)\n",
        "\n",
        "grid_search = GridSearchCV(decision_tree_classifier,\n",
        "                           param_grid=parameter_grid,\n",
        "                           cv=cross_validation)\n",
        "\n",
        "grid_search.fit(all_inputs, all_labels)\n",
        "print('Best score: {}'.format(grid_search.best_score_))\n",
        "print('Best parameters: {}'.format(grid_search.best_params_))\n",
        "\n",
        "decision_tree_classifier = grid_search.best_estimator_\n",
        "decision_tree_classifier"
      ],
      "execution_count": 0,
      "outputs": []
    },
    {
      "metadata": {
        "id": "042mSeApuiz2",
        "colab_type": "code",
        "colab": {}
      },
      "cell_type": "code",
      "source": [
        "import sklearn.tree as tree\n",
        "from sklearn.externals.six import StringIO\n",
        "\n",
        "with open('iris_dtc.dot', 'w') as out_file:\n",
        "    out_file = tree.export_graphviz(decision_tree_classifier, out_file=out_file)"
      ],
      "execution_count": 0,
      "outputs": []
    },
    {
      "metadata": {
        "id": "FqrTqZt_vaNk",
        "colab_type": "code",
        "colab": {}
      },
      "cell_type": "code",
      "source": [
        "#now using another classifier to compare both of them\n",
        "\n",
        "from sklearn.ensemble import RandomForestClassifier\n",
        "\n",
        "random_forest_classifier = RandomForestClassifier()\n",
        "\n",
        "parameter_grid = {'n_estimators': [10, 25, 50, 100],\n",
        "                  'criterion': ['gini', 'entropy'],\n",
        "                  'max_features': [1, 2, 3, 4]}\n",
        "\n",
        "cross_validation = StratifiedKFold(n_splits=10)\n",
        "\n",
        "grid_search = GridSearchCV(random_forest_classifier,\n",
        "                           param_grid=parameter_grid,\n",
        "                           cv=cross_validation)\n",
        "\n",
        "grid_search.fit(all_inputs, all_labels)\n",
        "print('Best score: {}'.format(grid_search.best_score_))\n",
        "print('Best parameters: {}'.format(grid_search.best_params_))\n",
        "\n",
        "grid_search.best_estimator_"
      ],
      "execution_count": 0,
      "outputs": []
    },
    {
      "metadata": {
        "id": "L8HXTfpKv684",
        "colab_type": "code",
        "colab": {}
      },
      "cell_type": "code",
      "source": [
        "# now comparing two classifiers\n",
        "\n",
        "random_forest_classifier = grid_search.best_estimator_\n",
        "\n",
        "rf_df = pd.DataFrame({'accuracy': cross_val_score(random_forest_classifier, all_inputs, all_labels, cv=10),\n",
        "                       'classifier': ['Random Forest'] * 10})\n",
        "dt_df = pd.DataFrame({'accuracy': cross_val_score(decision_tree_classifier, all_inputs, all_labels, cv=10),\n",
        "                      'classifier': ['Decision Tree'] * 10})\n",
        "both_df = rf_df.append(dt_df)\n",
        "\n",
        "sb.boxplot(x='classifier', y='accuracy', data=both_df)\n",
        "sb.stripplot(x='classifier', y='accuracy', data=both_df, jitter=True, color='black')\n",
        ";"
      ],
      "execution_count": 0,
      "outputs": []
    }
  ]
}